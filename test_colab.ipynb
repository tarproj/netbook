{
  "nbformat": 4,
  "nbformat_minor": 0,
  "metadata": {
    "colab": {
      "provenance": [],
      "authorship_tag": "ABX9TyPtxXPZUMs2+s7jMkNK7AdP",
      "include_colab_link": true
    },
    "kernelspec": {
      "name": "ir",
      "display_name": "R"
    },
    "language_info": {
      "name": "R"
    }
  },
  "cells": [
    {
      "cell_type": "markdown",
      "metadata": {
        "id": "view-in-github",
        "colab_type": "text"
      },
      "source": [
        "<a href=\"https://colab.research.google.com/github/tarproj/netbook/blob/main/test_colab.ipynb\" target=\"_parent\"><img src=\"https://colab.research.google.com/assets/colab-badge.svg\" alt=\"Open In Colab\"/></a>"
      ]
    },
    {
      "cell_type": "code",
      "execution_count": 3,
      "metadata": {
        "colab": {
          "base_uri": "https://localhost:8080/",
          "height": 1000
        },
        "id": "WCBmGL3vr0hs",
        "outputId": "3651c2bc-03ea-425a-e0aa-098ce4b4ac89"
      },
      "outputs": [
        {
          "output_type": "display_data",
          "data": {
            "text/html": [
              "<table class=\"dataframe\">\n",
              "<caption>A data.frame: 50 × 2</caption>\n",
              "<thead>\n",
              "\t<tr><th scope=col>speed</th><th scope=col>dist</th></tr>\n",
              "\t<tr><th scope=col>&lt;dbl&gt;</th><th scope=col>&lt;dbl&gt;</th></tr>\n",
              "</thead>\n",
              "<tbody>\n",
              "\t<tr><td> 4</td><td>  2</td></tr>\n",
              "\t<tr><td> 4</td><td> 10</td></tr>\n",
              "\t<tr><td> 7</td><td>  4</td></tr>\n",
              "\t<tr><td> 7</td><td> 22</td></tr>\n",
              "\t<tr><td> 8</td><td> 16</td></tr>\n",
              "\t<tr><td> 9</td><td> 10</td></tr>\n",
              "\t<tr><td>10</td><td> 18</td></tr>\n",
              "\t<tr><td>10</td><td> 26</td></tr>\n",
              "\t<tr><td>10</td><td> 34</td></tr>\n",
              "\t<tr><td>11</td><td> 17</td></tr>\n",
              "\t<tr><td>11</td><td> 28</td></tr>\n",
              "\t<tr><td>12</td><td> 14</td></tr>\n",
              "\t<tr><td>12</td><td> 20</td></tr>\n",
              "\t<tr><td>12</td><td> 24</td></tr>\n",
              "\t<tr><td>12</td><td> 28</td></tr>\n",
              "\t<tr><td>13</td><td> 26</td></tr>\n",
              "\t<tr><td>13</td><td> 34</td></tr>\n",
              "\t<tr><td>13</td><td> 34</td></tr>\n",
              "\t<tr><td>13</td><td> 46</td></tr>\n",
              "\t<tr><td>14</td><td> 26</td></tr>\n",
              "\t<tr><td>14</td><td> 36</td></tr>\n",
              "\t<tr><td>14</td><td> 60</td></tr>\n",
              "\t<tr><td>14</td><td> 80</td></tr>\n",
              "\t<tr><td>15</td><td> 20</td></tr>\n",
              "\t<tr><td>15</td><td> 26</td></tr>\n",
              "\t<tr><td>15</td><td> 54</td></tr>\n",
              "\t<tr><td>16</td><td> 32</td></tr>\n",
              "\t<tr><td>16</td><td> 40</td></tr>\n",
              "\t<tr><td>17</td><td> 32</td></tr>\n",
              "\t<tr><td>17</td><td> 40</td></tr>\n",
              "\t<tr><td>17</td><td> 50</td></tr>\n",
              "\t<tr><td>18</td><td> 42</td></tr>\n",
              "\t<tr><td>18</td><td> 56</td></tr>\n",
              "\t<tr><td>18</td><td> 76</td></tr>\n",
              "\t<tr><td>18</td><td> 84</td></tr>\n",
              "\t<tr><td>19</td><td> 36</td></tr>\n",
              "\t<tr><td>19</td><td> 46</td></tr>\n",
              "\t<tr><td>19</td><td> 68</td></tr>\n",
              "\t<tr><td>20</td><td> 32</td></tr>\n",
              "\t<tr><td>20</td><td> 48</td></tr>\n",
              "\t<tr><td>20</td><td> 52</td></tr>\n",
              "\t<tr><td>20</td><td> 56</td></tr>\n",
              "\t<tr><td>20</td><td> 64</td></tr>\n",
              "\t<tr><td>22</td><td> 66</td></tr>\n",
              "\t<tr><td>23</td><td> 54</td></tr>\n",
              "\t<tr><td>24</td><td> 70</td></tr>\n",
              "\t<tr><td>24</td><td> 92</td></tr>\n",
              "\t<tr><td>24</td><td> 93</td></tr>\n",
              "\t<tr><td>24</td><td>120</td></tr>\n",
              "\t<tr><td>25</td><td> 85</td></tr>\n",
              "</tbody>\n",
              "</table>\n"
            ],
            "text/markdown": "\nA data.frame: 50 × 2\n\n| speed &lt;dbl&gt; | dist &lt;dbl&gt; |\n|---|---|\n|  4 |   2 |\n|  4 |  10 |\n|  7 |   4 |\n|  7 |  22 |\n|  8 |  16 |\n|  9 |  10 |\n| 10 |  18 |\n| 10 |  26 |\n| 10 |  34 |\n| 11 |  17 |\n| 11 |  28 |\n| 12 |  14 |\n| 12 |  20 |\n| 12 |  24 |\n| 12 |  28 |\n| 13 |  26 |\n| 13 |  34 |\n| 13 |  34 |\n| 13 |  46 |\n| 14 |  26 |\n| 14 |  36 |\n| 14 |  60 |\n| 14 |  80 |\n| 15 |  20 |\n| 15 |  26 |\n| 15 |  54 |\n| 16 |  32 |\n| 16 |  40 |\n| 17 |  32 |\n| 17 |  40 |\n| 17 |  50 |\n| 18 |  42 |\n| 18 |  56 |\n| 18 |  76 |\n| 18 |  84 |\n| 19 |  36 |\n| 19 |  46 |\n| 19 |  68 |\n| 20 |  32 |\n| 20 |  48 |\n| 20 |  52 |\n| 20 |  56 |\n| 20 |  64 |\n| 22 |  66 |\n| 23 |  54 |\n| 24 |  70 |\n| 24 |  92 |\n| 24 |  93 |\n| 24 | 120 |\n| 25 |  85 |\n\n",
            "text/latex": "A data.frame: 50 × 2\n\\begin{tabular}{ll}\n speed & dist\\\\\n <dbl> & <dbl>\\\\\n\\hline\n\t  4 &   2\\\\\n\t  4 &  10\\\\\n\t  7 &   4\\\\\n\t  7 &  22\\\\\n\t  8 &  16\\\\\n\t  9 &  10\\\\\n\t 10 &  18\\\\\n\t 10 &  26\\\\\n\t 10 &  34\\\\\n\t 11 &  17\\\\\n\t 11 &  28\\\\\n\t 12 &  14\\\\\n\t 12 &  20\\\\\n\t 12 &  24\\\\\n\t 12 &  28\\\\\n\t 13 &  26\\\\\n\t 13 &  34\\\\\n\t 13 &  34\\\\\n\t 13 &  46\\\\\n\t 14 &  26\\\\\n\t 14 &  36\\\\\n\t 14 &  60\\\\\n\t 14 &  80\\\\\n\t 15 &  20\\\\\n\t 15 &  26\\\\\n\t 15 &  54\\\\\n\t 16 &  32\\\\\n\t 16 &  40\\\\\n\t 17 &  32\\\\\n\t 17 &  40\\\\\n\t 17 &  50\\\\\n\t 18 &  42\\\\\n\t 18 &  56\\\\\n\t 18 &  76\\\\\n\t 18 &  84\\\\\n\t 19 &  36\\\\\n\t 19 &  46\\\\\n\t 19 &  68\\\\\n\t 20 &  32\\\\\n\t 20 &  48\\\\\n\t 20 &  52\\\\\n\t 20 &  56\\\\\n\t 20 &  64\\\\\n\t 22 &  66\\\\\n\t 23 &  54\\\\\n\t 24 &  70\\\\\n\t 24 &  92\\\\\n\t 24 &  93\\\\\n\t 24 & 120\\\\\n\t 25 &  85\\\\\n\\end{tabular}\n",
            "text/plain": [
              "   speed dist\n",
              "1   4      2 \n",
              "2   4     10 \n",
              "3   7      4 \n",
              "4   7     22 \n",
              "5   8     16 \n",
              "6   9     10 \n",
              "7  10     18 \n",
              "8  10     26 \n",
              "9  10     34 \n",
              "10 11     17 \n",
              "11 11     28 \n",
              "12 12     14 \n",
              "13 12     20 \n",
              "14 12     24 \n",
              "15 12     28 \n",
              "16 13     26 \n",
              "17 13     34 \n",
              "18 13     34 \n",
              "19 13     46 \n",
              "20 14     26 \n",
              "21 14     36 \n",
              "22 14     60 \n",
              "23 14     80 \n",
              "24 15     20 \n",
              "25 15     26 \n",
              "26 15     54 \n",
              "27 16     32 \n",
              "28 16     40 \n",
              "29 17     32 \n",
              "30 17     40 \n",
              "31 17     50 \n",
              "32 18     42 \n",
              "33 18     56 \n",
              "34 18     76 \n",
              "35 18     84 \n",
              "36 19     36 \n",
              "37 19     46 \n",
              "38 19     68 \n",
              "39 20     32 \n",
              "40 20     48 \n",
              "41 20     52 \n",
              "42 20     56 \n",
              "43 20     64 \n",
              "44 22     66 \n",
              "45 23     54 \n",
              "46 24     70 \n",
              "47 24     92 \n",
              "48 24     93 \n",
              "49 24    120 \n",
              "50 25     85 "
            ]
          },
          "metadata": {}
        }
      ],
      "source": [
        "cars"
      ]
    },
    {
      "cell_type": "code",
      "source": [
        "lm(speed~dist,data=cars)"
      ],
      "metadata": {
        "colab": {
          "base_uri": "https://localhost:8080/",
          "height": 139
        },
        "id": "8zVTG7hBsRbX",
        "outputId": "344b66e3-5f23-4192-d11e-646e78878bbc"
      },
      "execution_count": 5,
      "outputs": [
        {
          "output_type": "display_data",
          "data": {
            "text/plain": [
              "\n",
              "Call:\n",
              "lm(formula = speed ~ dist, data = cars)\n",
              "\n",
              "Coefficients:\n",
              "(Intercept)         dist  \n",
              "     8.2839       0.1656  \n"
            ]
          },
          "metadata": {}
        }
      ]
    },
    {
      "cell_type": "code",
      "source": [],
      "metadata": {
        "id": "LU7kcjN3sMkB"
      },
      "execution_count": null,
      "outputs": []
    }
  ]
}